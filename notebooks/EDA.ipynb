{
 "cells": [
  {
   "cell_type": "markdown",
   "id": "a65d0460",
   "metadata": {},
   "source": [
    "# Exploratory Data Analysis - In progress"
   ]
  },
  {
   "cell_type": "markdown",
   "id": "2cebc353",
   "metadata": {},
   "source": [
    "### Project Overview\n",
    "This notebook explores patterns in NBA foul data across multiple seasons. The goal is to analyze how foul types, timing, and team roles vary with score margin and period. The project is in the EDA phase."
   ]
  },
  {
   "cell_type": "markdown",
   "id": "a844674c",
   "metadata": {},
   "source": [
    "### Environment Setup\n",
    "We begin by importing core Python libraries for data manipulation and visualisation."
   ]
  },
  {
   "cell_type": "code",
   "execution_count": 1,
   "id": "5ae7e0e5",
   "metadata": {},
   "outputs": [],
   "source": [
    "import matplotlib.pyplot as plt\n",
    "import pandas as pd\n",
    "import numpy as np \n",
    "import seaborn as sns"
   ]
  },
  {
   "cell_type": "markdown",
   "id": "dd7ac746",
   "metadata": {},
   "source": [
    "### Load Cleaned Data\n",
    "We load pre-cleaned foul event data for the 2024–25 regular NBA season and for the 2024-25 playoffs."
   ]
  },
  {
   "cell_type": "code",
   "execution_count": 2,
   "id": "440cb6f7",
   "metadata": {},
   "outputs": [],
   "source": [
    "s24_25_r = pd.read_csv(\"../data/foul_events_2024-25_regular.csv\")\n",
    "s24_25_p = pd.read_csv(\"../data/foul_events_2024-25_playoff.csv\")"
   ]
  },
  {
   "cell_type": "markdown",
   "id": "166828ff",
   "metadata": {},
   "source": [
    "Count the number of regular season and playoff games in the datasets."
   ]
  },
  {
   "cell_type": "code",
   "execution_count": 3,
   "id": "9acfddd8",
   "metadata": {},
   "outputs": [
    {
     "name": "stdout",
     "output_type": "stream",
     "text": [
      "The number of regular season games in the 2024-25 NBA season is 1225.\n",
      "The number of expected regular season games is 1230. 5 games are missing.\n",
      "The number of playoff games in the 2024-25 NBA season is 84.\n"
     ]
    }
   ],
   "source": [
    "print(f\"The number of regular season games in the 2024-25 NBA season is {len(pd.unique(s24_25_r[\"GAME_ID\"]))}.\")\n",
    "print(f\"The number of expected regular season games is 1230. {1230-len(pd.unique(s24_25_r[\"GAME_ID\"]))} games are missing.\")\n",
    "print(f\"The number of playoff games in the 2024-25 NBA season is {len(pd.unique(s24_25_p[\"GAME_ID\"]))}.\")  # the number of playoff games is not constant for each season"
   ]
  },
  {
   "cell_type": "markdown",
   "id": "c4a64fa3",
   "metadata": {},
   "source": [
    "### Understanding the Data\n",
    "Key columns include:\n",
    "\n",
    "- `PERIOD`: Quarter or overtime period (1–4 = regular, 5+ = OT)\n",
    "- `SECONDSINQTR`: Seconds left in the quarter (720-0)\n",
    "- `SCOREMARGIN`: Score difference at the time of the foul (positive = home lead)\n",
    "- `HOMEDESCRIPTION` / `VISITORDESCRIPTION`: Foul text commentary. If the home team commited the foul, VISITORDESCRIPTION would be empty and vice versa\n",
    "- `GAME_ID`: Unique identifier for the game\n",
    "- `PLAYER1_ID`: Unique ID identifying the player who commited the foul\n",
    "- `PLAYER2_ID`: Unique ID identifying the player who was fouled (if there was one)"
   ]
  },
  {
   "cell_type": "code",
   "execution_count": 4,
   "id": "2bc8d542",
   "metadata": {},
   "outputs": [
    {
     "name": "stdout",
     "output_type": "stream",
     "text": [
      "The shape of the regular season dataset is (46715, 8)\n",
      "    GAME_ID  PERIOD  PCTIMESTRING HOMEDESCRIPTION VISITORDESCRIPTION  \\\n",
      "0  22401198       1           699             NaN             s.foul   \n",
      "1  22401198       1           628          p.foul                NaN   \n",
      "2  22401198       1           586             NaN             s.foul   \n",
      "3  22401198       1           382          p.foul                NaN   \n",
      "4  22401198       1           316          s.foul                NaN   \n",
      "\n",
      "   SCOREMARGIN  PLAYER1_ID  PLAYER2_ID  \n",
      "0          0.0     1626181     1641764  \n",
      "1         -2.0      203110     1626181  \n",
      "2         -6.0     1627739      201939  \n",
      "3          1.0     1627741     1626181  \n",
      "4         -3.0      201939      202695  \n"
     ]
    }
   ],
   "source": [
    "print(\"The shape of the regular season dataset is\", s24_25_r.shape)\n",
    "print(s24_25_r.head())"
   ]
  },
  {
   "cell_type": "code",
   "execution_count": 5,
   "id": "3ad39cc8",
   "metadata": {},
   "outputs": [
    {
     "name": "stdout",
     "output_type": "stream",
     "text": [
      "The shape of the playoff dataset is (3567, 8)\n",
      "    GAME_ID  PERIOD  PCTIMESTRING HOMEDESCRIPTION VISITORDESCRIPTION  \\\n",
      "0  42400407       1           677          p.foul                NaN   \n",
      "1  42400407       1           615        l.b.foul                NaN   \n",
      "2  42400407       1           585             NaN             p.foul   \n",
      "3  42400407       1           441             NaN             s.foul   \n",
      "4  42400407       1           336          s.foul                NaN   \n",
      "\n",
      "   SCOREMARGIN  PLAYER1_ID  PLAYER2_ID  \n",
      "0         -2.0     1629652     1630169  \n",
      "1         -3.0     1631096     1627783  \n",
      "2         -3.0     1630174     1628983  \n",
      "3         -3.0     1630174     1628983  \n",
      "4          2.0     1631114     1629614  \n"
     ]
    }
   ],
   "source": [
    "print(\"The shape of the playoff dataset is\", s24_25_p.shape)\n",
    "print(s24_25_p.head())"
   ]
  },
  {
   "cell_type": "code",
   "execution_count": 6,
   "id": "085ae941",
   "metadata": {},
   "outputs": [
    {
     "name": "stdout",
     "output_type": "stream",
     "text": [
      "GAME_ID                 int64\n",
      "PERIOD                  int64\n",
      "PCTIMESTRING            int64\n",
      "HOMEDESCRIPTION        object\n",
      "VISITORDESCRIPTION     object\n",
      "SCOREMARGIN           float64\n",
      "PLAYER1_ID              int64\n",
      "PLAYER2_ID              int64\n",
      "dtype: object\n"
     ]
    }
   ],
   "source": [
    "print(s24_25_r.dtypes)"
   ]
  },
  {
   "cell_type": "code",
   "execution_count": 7,
   "id": "557370e6",
   "metadata": {},
   "outputs": [
    {
     "name": "stdout",
     "output_type": "stream",
     "text": [
      "GAME_ID                   0\n",
      "PERIOD                    0\n",
      "PCTIMESTRING              0\n",
      "HOMEDESCRIPTION       23529\n",
      "VISITORDESCRIPTION    23477\n",
      "SCOREMARGIN               0\n",
      "PLAYER1_ID                0\n",
      "PLAYER2_ID                0\n",
      "dtype: int64\n"
     ]
    }
   ],
   "source": [
    "print(s24_25_r.isnull().sum())"
   ]
  },
  {
   "cell_type": "code",
   "execution_count": 8,
   "id": "dc1f3585",
   "metadata": {},
   "outputs": [
    {
     "name": "stdout",
     "output_type": "stream",
     "text": [
      "GAME_ID                  0\n",
      "PERIOD                   0\n",
      "PCTIMESTRING             0\n",
      "HOMEDESCRIPTION       1811\n",
      "VISITORDESCRIPTION    1795\n",
      "SCOREMARGIN              0\n",
      "PLAYER1_ID               0\n",
      "PLAYER2_ID               0\n",
      "dtype: int64\n"
     ]
    }
   ],
   "source": [
    "print(s24_25_p.isnull().sum())"
   ]
  },
  {
   "cell_type": "code",
   "execution_count": 9,
   "id": "305b3f93",
   "metadata": {},
   "outputs": [
    {
     "name": "stdout",
     "output_type": "stream",
     "text": [
      "The different fouls logged by the home team in the 2024-24 regular season are ['away.from.play.foul', 'flagrant.foul.type1', 'flagrant.foul.type2', 'foul', 'hanging.tech.foul', 'l.b.foul', 'non-unsportsmanlike tech foul - bench', 'non-unsportsmanlike tech foul - flopping', 'off.foul', 'offensive charge foul', 'p.foul', 'personal take foul', 's.foul', 't.foul', 'too many players tech foul', 'transition take foul']\n",
      "The different fouls logged by the away team in the 2024-24 regular season are ['away.from.play.foul', 'flagrant.foul.type1', 'flagrant.foul.type2', 'hanging.tech.foul', 'l.b.foul', 'non-unsportsmanlike tech foul - bench', 'non-unsportsmanlike tech foul - flopping', 'off.foul', 'offensive charge foul', 'p.foul', 'personal take foul', 's.foul', 't.foul', 'transition take foul']\n"
     ]
    }
   ],
   "source": [
    "print(\"The different fouls logged by the home team in the 2024-24 regular season are\", sorted(s24_25_r['HOMEDESCRIPTION'].dropna().unique()))\n",
    "print(\"The different fouls logged by the away team in the 2024-24 regular season are\", sorted(s24_25_r['VISITORDESCRIPTION'].dropna().unique()))"
   ]
  },
  {
   "cell_type": "markdown",
   "id": "5f9bee5d",
   "metadata": {},
   "source": [
    "### Exploring the Regular Season Data\n",
    "#### Fouls by Game Period\n",
    "We analyse how fouls are distributed across different game periods (regulation and overtimes). This helps identify whether certain periods see higher foul activity."
   ]
  },
  {
   "cell_type": "code",
   "execution_count": 10,
   "id": "fc44bf35",
   "metadata": {},
   "outputs": [
    {
     "data": {
      "image/png": "[encoded data removed]",
      "text/plain": [
       "<Figure size 1000x600 with 1 Axes>"
      ]
     },
     "metadata": {},
     "output_type": "display_data"
    }
   ],
   "source": [
    "fig, ax = plt.subplots(figsize=(10, 6))\n",
    "\n",
    "ax.hist(\n",
    "    s24_25_r[\"PERIOD\"],\n",
    "    bins=range(1, s24_25_r[\"PERIOD\"].max() + 2),\n",
    "    edgecolor='black',\n",
    "    color=\"#d991ba\",\n",
    "    rwidth=0.85,\n",
    "    align='left'\n",
    ")\n",
    "\n",
    "ax.set_title(\"Distribution of Fouls by Game Period (2024–25)\", fontsize=16)\n",
    "ax.set_xlabel(\"Game Period (1–4 = Regulation, >4 = Overtime)\", fontsize=12)\n",
    "ax.set_ylabel(\"Number of Fouls\", fontsize=12)\n",
    "ax.set_xticks(range(1, s24_25_r[\"PERIOD\"].max() + 1))\n",
    "ax.tick_params(axis='both', which='major', labelsize=10)\n",
    "\n",
    "sns.despine(ax=ax)\n",
    "ax.tick_params(left=False, bottom=False)\n",
    "\n",
    "plt.tight_layout()\n",
    "plt.show()"
   ]
  },
  {
   "cell_type": "markdown",
   "id": "defd8273",
   "metadata": {},
   "source": [
    "The bar chart above shows the total number of fouls committed in each game period across the 2024–25 season. While this visualisation highlights that the 4th quarter sees the most fouls overall, and that the number of fouls continuously grows across quarters 1-4, it's important to interpret the overtime periods with caution.\n",
    "\n",
    "**Why?**  \n",
    "While every game has four quarters, not every game goes into overtime (5th period and beyond), so those periods naturally have fewer total fouls. Comparing raw foul counts between overtime and regulation periods doesn't account for how often those periods occur.\n",
    "\n",
    "To make a fairer comparison, we will normalise the foul counts by the **number of games** that include each period This allows us to assess **foul rates per game**, rather than just total volume.\n"
   ]
  },
  {
   "cell_type": "code",
   "execution_count": 11,
   "id": "d8bc54d1",
   "metadata": {},
   "outputs": [
    {
     "name": "stdout",
     "output_type": "stream",
     "text": [
      "Recall that the number of games in the dataset is: 1225\n",
      "The number of games that went to a single overtime: 60\n",
      "The number of games that went to a second overtime: 4\n"
     ]
    }
   ],
   "source": [
    "print(f\"Recall that the number of games in the dataset is: {len(pd.unique(s24_25_r[\"GAME_ID\"]))}\")\n",
    "print(f\"The number of games that went to a single overtime: {len(pd.unique(s24_25_r[s24_25_r[\"PERIOD\"]==5][\"GAME_ID\"]))}\")\n",
    "print(f\"The number of games that went to a second overtime: {len(pd.unique(s24_25_r[s24_25_r[\"PERIOD\"]==6][\"GAME_ID\"]))}\")"
   ]
  },
  {
   "cell_type": "code",
   "execution_count": 12,
   "id": "32f35d18",
   "metadata": {},
   "outputs": [
    {
     "data": {
      "image/png": "[encoded data removed]",
      "text/plain": [
       "<Figure size 1000x600 with 1 Axes>"
      ]
     },
     "metadata": {},
     "output_type": "display_data"
    }
   ],
   "source": [
    "fouls_period = s24_25_r.groupby(\"PERIOD\")[\"GAME_ID\"].count()  # count the number of fouls committed in each period using non-unique game ids\n",
    "no_games = s24_25_r.groupby(\"PERIOD\")[\"GAME_ID\"].nunique()  # number of games for each period\n",
    "\n",
    "normalised_fouls = fouls_period/no_games\n",
    "\n",
    "fig, ax = plt.subplots(figsize=(10, 6))\n",
    "normalised_fouls.plot(kind='bar', ax=ax, color=\"#d991ba\", edgecolor='black', width=0.85)\n",
    "\n",
    "ax.set_title(\"Average Fouls per Game by Period (2024–25)\", fontsize=16)\n",
    "ax.set_xlabel(\"Game Period (1–4 = Regulation, >4 = Overtime)\", fontsize=12)\n",
    "ax.set_ylabel(\"Average Fouls per Game\", fontsize=12)\n",
    "ax.set_xticks(range(len(normalised_fouls)))\n",
    "ax.set_xticklabels(normalised_fouls.index.astype(str), rotation=0)\n",
    "ax.tick_params(axis='both', which='major', labelsize=10)\n",
    "\n",
    "sns.despine(ax=ax)\n",
    "ax.tick_params(left=False, bottom=False)\n",
    "\n",
    "plt.tight_layout()\n",
    "plt.show()\n"
   ]
  },
  {
   "cell_type": "markdown",
   "id": "1b6b33df",
   "metadata": {},
   "source": [
    "However, recall that regulation quarters are **12 minutes** long; overtime periods are only **5 minutes**.\n",
    "Fewer minutes → naturally fewer fouls. The current chart shows **average total fouls per game that had that period**, not **per-minute foul rates**.\n"
   ]
  },
  {
   "cell_type": "code",
   "execution_count": 14,
   "id": "50672584",
   "metadata": {},
   "outputs": [
    {
     "data": {
      "image/png": "[encoded data removed]",
      "text/plain": [
       "<Figure size 1000x600 with 1 Axes>"
      ]
     },
     "metadata": {},
     "output_type": "display_data"
    }
   ],
   "source": [
    "period_lengths = {1: 12, 2: 12, 3: 12, 4: 12, 5: 5, 6: 5}\n",
    "\n",
    "fouls_min = normalised_fouls/no_games.index.map(period_lengths)\n",
    "\n",
    "fig, ax = plt.subplots(figsize=(10, 6))\n",
    "fouls_min.plot(kind='bar', ax=ax, color=\"#d991ba\", edgecolor='black', width=0.85)\n",
    "\n",
    "ax.set_title(\"Average Fouls per Minute by Period (2024–25)\", fontsize=16)\n",
    "ax.set_xlabel(\"Game Period (1–4 = Regulation, >4 = Overtime)\", fontsize=12)\n",
    "ax.set_ylabel(\"Average Fouls per Minute\", fontsize=12)\n",
    "ax.set_xticks(range(len(fouls_min)))\n",
    "ax.set_xticklabels(fouls_min.index.astype(str), rotation=0)\n",
    "ax.tick_params(axis='both', which='major', labelsize=10)\n",
    "\n",
    "sns.despine(ax=ax)\n",
    "ax.tick_params(left=False, bottom=False)\n",
    "\n",
    "plt.tight_layout()\n",
    "plt.show()\n"
   ]
  },
  {
   "cell_type": "markdown",
   "id": "d4dee53a",
   "metadata": {},
   "source": [
    "**Conclusions**\n",
    "\n",
    "1. **Foul intensity increases as the game progresses**\n",
    "- Periods 1 through 4 (regulation) show a gradual rise in average fouls per minute.\n",
    "- This suggests players commit more fouls in later quarters, potentially due to fatigue, tighter defense, or increased urgency.\n",
    "\n",
    "2. **Overtime (Period 5) has the highest foul rate per minute**\n",
    "- First overtime sees a noticeable spike, indicating that these high-stakes moments are especially foul-heavy.\n",
    "- Fouling may be strategic (e.g., stopping the clock or forcing free throws), or due to high player stress and intensity.\n",
    "\n",
    "3. **Second overtime (Period 6) drops back to below first-quarter levels**\n",
    "- This may reflect a smaller sample size (only 4 double OT games), or players fouling out and rotations thinning out.\n",
    "\n",
    "**Limitations**\n",
    "\n",
    "- **Small sample size in OT periods**\n",
    "  - Not every game goes to overtime, especially double OT, so the foul rates there might not be representative.\n",
    "  - Outliers or a few extreme games could skew the average for periods 5 and 6.\n",
    "\n",
    "- **Doesn’t differentiate foul types**\n",
    "  - Shooting fouls, technicals, and intentional fouls are lumped together.\n",
    "  - Strategic late-game fouling may not reflect actual defensive intensity.\n"
   ]
  },
  {
   "cell_type": "markdown",
   "id": "4ef3d25b",
   "metadata": {},
   "source": [
    "#### Fouls by Game Period and Home/Away Team Status"
   ]
  },
  {
   "cell_type": "code",
   "execution_count": 27,
   "id": "8c5c3454",
   "metadata": {},
   "outputs": [
    {
     "data": {
      "image/png": "[encoded data removed]",
      "text/plain": [
       "<Figure size 1000x600 with 1 Axes>"
      ]
     },
     "metadata": {},
     "output_type": "display_data"
    }
   ],
   "source": [
    "home_fouls = s24_25_r.groupby(\"PERIOD\")[\"HOMEDESCRIPTION\"].count()  # count the number of home fouls committed in each period using non-unique game ids\n",
    "away_fouls = s24_25_r.groupby(\"PERIOD\")[\"VISITORDESCRIPTION\"].count()\n",
    "\n",
    "norm_home_fouls = home_fouls/no_games/no_games.index.map(period_lengths)\n",
    "norm_away_fouls = away_fouls/no_games/no_games.index.map(period_lengths)\n",
    "\n",
    "x = np.arange(len(norm_home_fouls))\n",
    "width = 0.35\n",
    "\n",
    "fig, ax = plt.subplots(figsize=(10, 6))\n",
    "\n",
    "ax.bar(x - width/2, norm_away_fouls, width, label=\"Away Team\", color=\"#d991ba\", edgecolor='black')\n",
    "ax.bar(x + width/2, norm_home_fouls, width, label=\"Home Team\", color=\"#60922d\", edgecolor='black')\n",
    "\n",
    "\n",
    "ax.set_title(\"Average Fouls per Minute by Period (2024–25)\", fontsize=16)\n",
    "ax.set_xlabel(\"Game Period (1–4 = Regulation, >4 = Overtime)\", fontsize=12)\n",
    "ax.set_ylabel(\"Average Fouls per Minute\", fontsize=12)\n",
    "ax.set_xticks(range(len(fouls_min)))\n",
    "ax.set_xticklabels(fouls_min.index.astype(str), rotation=0)\n",
    "ax.tick_params(axis='both', which='major', labelsize=10)\n",
    "\n",
    "ax.legend()\n",
    "\n",
    "sns.despine(ax=ax)\n",
    "ax.tick_params(left=False, bottom=False)\n",
    "\n",
    "plt.tight_layout()\n",
    "plt.show()"
   ]
  },
  {
   "cell_type": "markdown",
   "id": "6dc7b674",
   "metadata": {},
   "source": [
    "#### Key Observations\n",
    "\n",
    "1. **Fouls increase as the game progresses — for both teams**\n",
    "   - Both home and away teams tend to commit more fouls per minute as regulation progresses from Q1 to Q4.\n",
    "   - This trend is most pronounced in the 5th period (overtime), where foul rates spike for both teams.\n",
    "\n",
    "2. **Away teams consistently foul slightly more**\n",
    "   - Away team has a marginally higher foul rate for quarters 1 and 2, while home team has a higher foul rate for quarters 3 and beyond. \n",
    "   - This does not align with the general idea that home teams benefit from officiating bias.\n",
    "   - Home teams might foul more in overtime due to homecourt pressure.\n",
    "\n",
    "3. **2nd overtime (Period 6) shows the home team fouling almost twice as much as the away team**\n",
    "   - Not many games go to double overtime, so foul rates in Period 6 might not be reliable."
   ]
  },
  {
   "cell_type": "markdown",
   "id": "583cfe96",
   "metadata": {},
   "source": [
    "Is the difference in foul rate in quarter 5 statistically significant?"
   ]
  },
  {
   "cell_type": "code",
   "execution_count": null,
   "id": "f1b7a567",
   "metadata": {},
   "outputs": [],
   "source": [
    "plt.figure(figsize=(10, 6))\n",
    "sns.histplot(s24_25[\"PCTIMESTRING\"], bins=12, kde=True, color=\"#8cae68\", edgecolor='black')\n",
    "\n",
    "plt.title(\"Distribution of Fouls by Time Left in Quarter (2024–25)\", fontsize=16)\n",
    "plt.xlabel(\"Seconds Remaining in Quarter\", fontsize=12)\n",
    "plt.ylabel(\"Number of Fouls\", fontsize=12)\n",
    "sns.despine()\n",
    "plt.tight_layout()\n",
    "plt.show()"
   ]
  },
  {
   "cell_type": "code",
   "execution_count": null,
   "id": "0f73bebc",
   "metadata": {},
   "outputs": [],
   "source": [
    "sorted(s24_25[\"PCTIMESTRING\"].dropna())[-10:]"
   ]
  },
  {
   "cell_type": "code",
   "execution_count": null,
   "id": "7f3e6a9a",
   "metadata": {},
   "outputs": [],
   "source": [
    "s24_25 = s24_25[s24_25[\"PCTIMESTRING\"]<=720]\n",
    "sorted(s24_25[\"PCTIMESTRING\"].dropna())[-10:]"
   ]
  },
  {
   "cell_type": "code",
   "execution_count": null,
   "id": "e39f81e7",
   "metadata": {},
   "outputs": [],
   "source": [
    "sorted(s24_25[\"PCTIMESTRING\"].dropna())[:10]"
   ]
  },
  {
   "cell_type": "code",
   "execution_count": null,
   "id": "7cafe0a8",
   "metadata": {},
   "outputs": [],
   "source": [
    "print(\"The maximum score margin in the 2024-25 NBA season is\", s24_25[\"SCOREMARGIN\"].max())\n",
    "print(\"The maximum score margin in the 2024-25 NBA season is\", s24_25[\"SCOREMARGIN\"].min())"
   ]
  },
  {
   "cell_type": "code",
   "execution_count": null,
   "id": "56bb57b6",
   "metadata": {},
   "outputs": [],
   "source": [
    "plt.figure(figsize=(10, 6))\n",
    "sns.histplot(s24_25[\"PCTIMESTRING\"], bins=12, kde=True, color=\"#8cae68\", edgecolor='black')\n",
    "\n",
    "plt.title(\"Distribution of Fouls by Time Left in Quarter (2024–25)\", fontsize=16)\n",
    "plt.xlabel(\"Seconds Remaining in Quarter\", fontsize=12)\n",
    "plt.ylabel(\"Number of Fouls\", fontsize=12)\n",
    "sns.despine()\n",
    "plt.tight_layout()\n",
    "plt.show()"
   ]
  },
  {
   "cell_type": "markdown",
   "id": "e5b41cd2",
   "metadata": {},
   "source": [
    "Note that:\n",
    "\n",
    "- **NBA time counts down**, so **0 = end of quarter** and **720 = start**.\n",
    "- So the left bar (700–720) reflects **fewer fouls at the start** of quarters.\n",
    "- **Rightmost bar (0–60)** reflects **end-of-quarter crunch time**, where fouling (especially intentional) is more frequent.\n"
   ]
  },
  {
   "cell_type": "code",
   "execution_count": null,
   "id": "371fd05b",
   "metadata": {},
   "outputs": [],
   "source": [
    "s24_25['SECONDSINQTR'] = 720 - s24_25[\"PCTIMESTRING\"]\n",
    "plt.figure(figsize=(10, 6))\n",
    "sns.histplot(s24_25[\"SECONDSINQTR\"], bins=12, kde=True, color=\"#8cae68\", edgecolor='black')\n",
    "\n",
    "plt.title(\"Distribution of Fouls by Time in Quarter (2024–25)\", fontsize=16)\n",
    "plt.xlabel(\"Seconds Elapsed in Quarter\", fontsize=12)\n",
    "plt.ylabel(\"Number of Fouls\", fontsize=12)\n",
    "sns.despine()\n",
    "plt.tight_layout()\n",
    "plt.show()"
   ]
  },
  {
   "cell_type": "markdown",
   "id": "aacd8721",
   "metadata": {},
   "source": [
    "#### Key Observations\n",
    "\n",
    "#### 1. Foul frequency increases as the quarter progresses\n",
    "- There's a clear **upward trend** in fouls.\n",
    "- This suggests **players foul more as the quarter progresses**, likely due to:\n",
    "  - **Tighter defense**\n",
    "  - **Frustration fouls**\n",
    "  - **Bonus situations**\n",
    "  - **Intentional fouling strategies**\n",
    "\n",
    "#### 2. Sharp spike in the final minute\n",
    "- The last bin has the **highest number of fouls**.\n",
    "- This is classic **“crunch time” fouling**: teams intentionally foul to stop the clock, force the fouled player to shoot free throws, and potentially gain possession of the ball.\n",
    "\n",
    "#### 3. Relatively steady foul rate mid-quarter\n",
    "- From minutes 2–10, the foul rate stays fairly **consistent**.\n",
    "- Suggests a stable pace of play without major disruption or strategic shifts.\n",
    "\n",
    "### Implications / Insights\n",
    "- Coaches and analysts might:\n",
    "  - Emphasise **discipline early in quarters** to avoid bonus penalties late.\n",
    "  - Design **clock-aware defensive plays** for the final minute."
   ]
  },
  {
   "cell_type": "code",
   "execution_count": null,
   "id": "bc93f378",
   "metadata": {},
   "outputs": [],
   "source": [
    "plt.figure(figsize=(10, 6))\n",
    "sns.histplot(s24_25[s24_25[\"PERIOD\"]== 1][\"SECONDSINQTR\"], bins=12, kde=True, color=\"#fc8d62\", edgecolor='black', label='First Quarter')\n",
    "sns.histplot(s24_25[s24_25[\"PERIOD\"]== 2][\"SECONDSINQTR\"], bins=12, kde=True, color=\"#8da0cb\", edgecolor='black', label='Second Quarter')\n",
    "\n",
    "\n",
    "plt.title(\"Distribution of Fouls by Time in Quarter (2024–25)\", fontsize=16)\n",
    "plt.xlabel(\"Seconds Elapsed in Quarter\", fontsize=12)\n",
    "plt.ylabel(\"Number of Fouls\", fontsize=12)\n",
    "sns.despine()\n",
    "plt.legend()\n",
    "plt.tight_layout()\n",
    "plt.show()"
   ]
  },
  {
   "cell_type": "code",
   "execution_count": null,
   "id": "45071965",
   "metadata": {},
   "outputs": [],
   "source": [
    "plt.figure(figsize=(10, 6))\n",
    "sns.histplot(s24_25[s24_25[\"PERIOD\"]== 2][\"SECONDSINQTR\"], bins=12, kde=True, color=\"#fc8d62\", edgecolor='black', label='Second Quarter')\n",
    "sns.histplot(s24_25[s24_25[\"PERIOD\"]== 3][\"SECONDSINQTR\"], bins=12, kde=True, color=\"#8da0cb\", edgecolor='black', label='Third Quarter')\n",
    "\n",
    "\n",
    "plt.title(\"Distribution of Fouls by Time in Quarter (2024–25)\", fontsize=16)\n",
    "plt.xlabel(\"Seconds Elapsed in Quarter\", fontsize=12)\n",
    "plt.ylabel(\"Number of Fouls\", fontsize=12)\n",
    "sns.despine()\n",
    "plt.legend()\n",
    "plt.tight_layout()\n",
    "plt.show()"
   ]
  },
  {
   "cell_type": "code",
   "execution_count": null,
   "id": "477544b0",
   "metadata": {},
   "outputs": [],
   "source": [
    "plt.figure(figsize=(10, 6))\n",
    "sns.histplot(s24_25[s24_25[\"PERIOD\"]== 3][\"SECONDSINQTR\"], bins=12, kde=True, color=\"#fc8d62\", edgecolor='black', label='Third Quarter')\n",
    "sns.histplot(s24_25[s24_25[\"PERIOD\"]== 4][\"SECONDSINQTR\"], bins=12, kde=True, color=\"#8da0cb\", edgecolor='black', label='Fourth Quarter')\n",
    "\n",
    "\n",
    "plt.title(\"Distribution of Fouls by Time in Quarter (2024–25)\", fontsize=16)\n",
    "plt.xlabel(\"Seconds Elapsed in Quarter\", fontsize=12)\n",
    "plt.ylabel(\"Number of Fouls\", fontsize=12)\n",
    "sns.despine()\n",
    "plt.legend()\n",
    "plt.tight_layout()\n",
    "plt.show()"
   ]
  },
  {
   "cell_type": "code",
   "execution_count": null,
   "id": "670a2964",
   "metadata": {},
   "outputs": [],
   "source": [
    "plt.figure(figsize=(10, 6))\n",
    "sns.histplot(s24_25[s24_25[\"PERIOD\"]== 1][\"SECONDSINQTR\"], bins=12, kde=True, color=\"#fc8d62\", edgecolor='black', label='First Quarter')\n",
    "sns.histplot(s24_25[s24_25[\"PERIOD\"]== 4][\"SECONDSINQTR\"], bins=12, kde=True, color=\"#8da0cb\", edgecolor='black', label='Fourth Quarter')\n",
    "\n",
    "\n",
    "plt.title(\"Distribution of Fouls by Time in Quarter (2024–25)\", fontsize=16)\n",
    "plt.xlabel(\"Seconds Elapsed in Quarter\", fontsize=12)\n",
    "plt.ylabel(\"Number of Fouls\", fontsize=12)\n",
    "sns.despine()\n",
    "plt.legend()\n",
    "plt.tight_layout()\n",
    "plt.show()"
   ]
  },
  {
   "cell_type": "code",
   "execution_count": null,
   "id": "d558eb15",
   "metadata": {},
   "outputs": [],
   "source": [
    "fig, axes = plt.subplots(2, 2, figsize=(10, 6), sharex=True, sharey=True)\n",
    "quarters = [1, 2, 3, 4]\n",
    "colors = [\"#ebb9df\", \"#d991ba\", \"#8cae68\", \"#60992d\"]\n",
    "\n",
    "for i, period in enumerate(quarters):\n",
    "    ax = axes[i // 2, i % 2]\n",
    "    sns.histplot(\n",
    "        s24_25[s24_25[\"PERIOD\"] == period][\"SECONDSINQTR\"],\n",
    "        bins=12, kde=True, color=colors[i], edgecolor=\"black\", ax=ax\n",
    "    )\n",
    "    ax.set_title(f\"Q{period}\")\n",
    "    ax.set_xlabel(\"Seconds Elapsed in Quarter\")\n",
    "    ax.set_ylabel(\"Number of Fouls\")\n",
    "    sns.despine(ax=ax)\n",
    "\n",
    "plt.suptitle(\"Foul Timing Distribution by Quarter (2024–25)\", fontsize=16)\n",
    "plt.tight_layout()\n",
    "plt.show()"
   ]
  },
  {
   "cell_type": "code",
   "execution_count": null,
   "id": "b06f2cce",
   "metadata": {},
   "outputs": [],
   "source": [
    "plt.figure(figsize=(10, 6))\n",
    "sns.histplot(\n",
    "        s24_25[s24_25[\"PERIOD\"] == 5][\"SECONDSINQTR\"],\n",
    "        bins=12, kde=True, color=\"#d991ba\", edgecolor=\"black\"\n",
    "    )\n",
    "plt.title(\"Foul Timing Distribution in the Fifth Quarter\")\n",
    "plt.xlabel(\"Seconds Elapsed in Quarter\")\n",
    "plt.ylabel(\"Number of Fouls\")\n",
    "sns.despine()\n",
    "plt.tight_layout()\n",
    "plt.show()"
   ]
  },
  {
   "cell_type": "code",
   "execution_count": null,
   "id": "aa70b0d0",
   "metadata": {},
   "outputs": [],
   "source": [
    "plt.figure(figsize=(10, 6))\n",
    "sns.histplot(\n",
    "        s24_25[s24_25[\"PERIOD\"] == 6][\"SECONDSINQTR\"],\n",
    "        bins=12, kde=True, color=\"#60992d\", edgecolor=\"black\"\n",
    "    )\n",
    "plt.title(\"Foul Timing Distribution in the Sixth Quarter\")\n",
    "plt.xlabel(\"Seconds Elapsed in Quarter\")\n",
    "plt.ylabel(\"Number of Fouls\")\n",
    "sns.despine()\n",
    "plt.tight_layout()\n",
    "plt.show()"
   ]
  },
  {
   "cell_type": "code",
   "execution_count": null,
   "id": "219e1bed",
   "metadata": {},
   "outputs": [],
   "source": [
    "q4_q5 = s24_25[s24_25[\"PERIOD\"].isin([4, 5])].copy()\n",
    "\n",
    "q4_last_min = q4_q5[(q4_q5[\"PERIOD\"] == 4) & (q4_q5[\"SECONDSINQTR\"] >= 660)]\n",
    "q4_rest = q4_q5[(q4_q5[\"PERIOD\"] == 4) & (q4_q5[\"SECONDSINQTR\"] < 660)]\n",
    "\n",
    "q5_last_min = q4_q5[(q4_q5[\"PERIOD\"] == 5) & (q4_q5[\"SECONDSINQTR\"] >= 660)]\n",
    "q5_rest = q4_q5[(q4_q5[\"PERIOD\"] == 5) & (q4_q5[\"SECONDSINQTR\"] < 660)]\n",
    "\n",
    "# number of games across the season across the league \n",
    "no_games = len(pd.unique(s24_25[\"GAME_ID\"]))\n",
    "# number of games that went into 5th quarter\n",
    "no_firstover = len(pd.unique(s24_25[s24_25[\"PERIOD\"]==5][\"GAME_ID\"]))\n",
    "print(no_games, no_firstover)"
   ]
  },
  {
   "cell_type": "code",
   "execution_count": null,
   "id": "18dd79ac",
   "metadata": {},
   "outputs": [],
   "source": [
    "q4_last_min_fouls = len(q4_last_min)  # total fouls in final min of Q4 across all games\n",
    "q4_rest_fouls = len(q4_rest)  # total fouls in rest of Q4\n",
    "\n",
    "q5_last_min_fouls = len(q5_last_min)  # total fouls in final min of OT1\n",
    "q5_rest_fouls = len(q5_rest)  # total fouls in rest of OT1\n",
    "\n",
    "q4_last_min_total_minutes = no_games * 1\n",
    "q4_rest_total_minutes = no_games * 11\n",
    "\n",
    "q5_last_min_total_minutes = no_firstover * 1\n",
    "q5_rest_total_minutes = no_firstover * 11\n",
    "\n",
    "q1_fouls = len(s24_25[s24_25[\"PERIOD\"]==1])\n",
    "q2_fouls = len(s24_25[s24_25[\"PERIOD\"]==2])\n",
    "q3_fouls = len(s24_25[s24_25[\"PERIOD\"]==3])\n",
    "q4_fouls = len(s24_25[s24_25[\"PERIOD\"]==4])\n",
    "q5_fouls = len(s24_25[s24_25[\"PERIOD\"]==5])\n",
    "\n",
    "# fouls per minute per game\n",
    "rates_per_min_per_game = {\n",
    "    \"Q1\": q1_fouls/(no_games*12),\n",
    "    \"Q2\": q2_fouls/(no_games*12),\n",
    "    \"Q3\": q3_fouls/(no_games*12),\n",
    "    \"Q4\": q4_fouls/(no_games*12),\n",
    "    \"Q5\": q5_fouls/(no_firstover*12),\n",
    "    \"Q4 Last Min\": q4_last_min_fouls / q4_last_min_total_minutes,\n",
    "    \"Q4 Rest\": q4_rest_fouls / q4_rest_total_minutes,\n",
    "    \"Q5 Last Min\": q5_last_min_fouls / q5_last_min_total_minutes,\n",
    "    \"Q5 Rest\": q5_rest_fouls / q5_rest_total_minutes\n",
    "}\n",
    "\n",
    "# plot\n",
    "plt.figure(figsize=(10, 6))\n",
    "plt.bar(rates_per_min_per_game.keys(), rates_per_min_per_game.values(),\n",
    "        color=[\"#ff006e\", \"#ff006e\", \"#ff006e\", \"#ff006e\", \"#ff006e\", \"#60992d\", \"#8cae68\", \"#d991ba\", \"#ebb9df\"],\n",
    "        edgecolor='black')\n",
    "plt.title(\"Foul Rate per Minute per Game: Q4 and OT1\")\n",
    "plt.ylabel(\"Fouls per Minute per Game\")\n",
    "plt.tight_layout()\n",
    "sns.despine()\n",
    "plt.show()\n"
   ]
  },
  {
   "cell_type": "code",
   "execution_count": null,
   "id": "81b047d2",
   "metadata": {},
   "outputs": [],
   "source": [
    "plt.figure(figsize=(10, 6))\n",
    "colors = [\"#8338ec\", \"#ff006e\", \"#fb5607\", \"#ffbe0b\"]\n",
    "\n",
    "for i, period in enumerate(quarters):\n",
    "    sns.kdeplot(\n",
    "        data=s24_25[s24_25[\"PERIOD\"] == period],\n",
    "        x=\"SECONDSINQTR\",\n",
    "        label=f\"Q{period}\",\n",
    "        bw_adjust=1,\n",
    "        fill=False,\n",
    "        color=colors[i],\n",
    "        linewidth=2\n",
    "    )\n",
    "\n",
    "plt.title(\"KDE of Foul Timing by Quarter (2024–25)\", fontsize=16)\n",
    "plt.xlabel(\"Seconds Elapsed in Quarter\")\n",
    "plt.ylabel(\"Estimated Density\")\n",
    "plt.legend()\n",
    "sns.despine()\n",
    "plt.tight_layout()\n",
    "plt.show()\n"
   ]
  },
  {
   "cell_type": "code",
   "execution_count": null,
   "id": "4246684f",
   "metadata": {},
   "outputs": [],
   "source": [
    "s24_25[\"ABSMARGIN\"] = s24_25[\"SCOREMARGIN\"].abs()\n",
    "\n",
    "plt.figure(figsize=(10, 6))\n",
    "\n",
    "sns.histplot(s24_25[\"ABSMARGIN\"], bins=30, color=\"#60992d\")\n",
    "plt.title(\"Distribution of Fouls by Score Margin\")\n",
    "plt.xlabel(\"Absolute Score Margin\")\n",
    "plt.ylabel(\"Number of Fouls\")\n",
    "sns.despine()\n",
    "plt.show()"
   ]
  },
  {
   "cell_type": "markdown",
   "id": "f46610e6",
   "metadata": {},
   "source": [
    "The histogram shows that **fewer fouls occur when the absolute score margin is large**, but it **also reflects the fact that large score margins are rarer**."
   ]
  },
  {
   "cell_type": "code",
   "execution_count": null,
   "id": "99d44768",
   "metadata": {},
   "outputs": [],
   "source": [
    "s24_25[\"ISCLOSE_MARGIN\"] = s24_25[\"ABSMARGIN\"].apply(lambda x: \"Close\" if x <= 5 else \"Non-Close\")  # creates a boolean column that checks whether the score margin is close or not\n",
    "s24_25[\"ISCLOSE_MARGIN\"].value_counts(normalize=True)  # percentage of fouls that occurred in close vs non-close moments\n",
    "\n",
    "custom_palette = {\"Close\": \"#60992d\", \"Non-Close\": \"#d991ba\"}\n",
    "plt.figure(figsize=(10, 6))\n",
    "sns.kdeplot(data=s24_25, x=\"SECONDSINQTR\", hue=\"ISCLOSE_MARGIN\", palette=custom_palette, common_norm=False)\n",
    "plt.title(\"Timing of Fouls: Close vs Non-Close Games\")\n",
    "plt.xlabel(\"Seconds Elapsed in Quarter\")\n",
    "plt.ylabel(\"Density\")\n",
    "\n",
    "sns.despine()\n",
    "plt.show()\n"
   ]
  },
  {
   "cell_type": "markdown",
   "id": "f8f46359",
   "metadata": {},
   "source": [
    "### Close Games (green line)\n",
    "\n",
    "- Higher foul density **early** in the quarter\n",
    "- Relatively steady through the middle\n",
    "- **Peaks towards the end**.\n",
    "\n",
    "### Non-Close Games (pink line)\n",
    "\n",
    "- Slightly **lower foul density early**\n",
    "- Peaks more **heavily toward the end** of the quarter\n",
    "- Suggests **more late-quarter fouling** in games that aren’t close — possibly frustration fouls, garbage time, or bench players\n",
    "\n",
    "### What This Could Mean\n",
    "\n",
    "- In **close games**, teams may foul earlier to be aggressive or disrupt momentum, but play more carefully late to avoid giving away points.\n",
    "- In **non-close games**, fouls may accumulate at the end when players are less restrained (e.g., intentional fouls, substitutions, fatigue).\n"
   ]
  },
  {
   "cell_type": "code",
   "execution_count": null,
   "id": "2fb63c4c",
   "metadata": {},
   "outputs": [],
   "source": [
    "s24_25[\"ISCLOSE_MARGIN\"] = s24_25[\"ABSMARGIN\"].apply(lambda x: \"Close\" if x <= 5 else \"Non-Close\")  # creates a boolean column that checks whether the score margin is close or not\n",
    "s24_25[\"ISCLOSE_MARGIN\"].value_counts(normalize=True)  # percentage of fouls that occurred in close vs non-close moments\n",
    "\n",
    "custom_palette = {\"Close\": \"#60992d\", \"Non-Close\": \"#d991ba\"}\n",
    "plt.figure(figsize=(10, 6))\n",
    "sns.kdeplot(data=s24_25[s24_25[\"PERIOD\"]==1], x=\"SECONDSINQTR\", hue=\"ISCLOSE_MARGIN\", palette=custom_palette, common_norm=False)\n",
    "plt.title(\"Timing of Fouls: Close vs Non-Close Games in the First Quarter\")\n",
    "plt.xlabel(\"Seconds Elapsed in Quarter\")\n",
    "plt.ylabel(\"Density\")\n",
    "sns.despine()\n",
    "plt.show()"
   ]
  },
  {
   "cell_type": "code",
   "execution_count": null,
   "id": "e329bb5a",
   "metadata": {},
   "outputs": [],
   "source": [
    "s24_25[\"ISCLOSE_MARGIN\"] = s24_25[\"ABSMARGIN\"].apply(lambda x: \"Close\" if x <= 5 else \"Non-Close\")  # creates a boolean column that checks whether the score margin is close or not\n",
    "s24_25[\"ISCLOSE_MARGIN\"].value_counts(normalize=True)  # percentage of fouls that occurred in close vs non-close moments\n",
    "\n",
    "custom_palette = {\"Close\": \"#60992d\", \"Non-Close\": \"#d991ba\"}\n",
    "plt.figure(figsize=(10, 6))\n",
    "sns.kdeplot(data=s24_25[s24_25[\"PERIOD\"]==2], x=\"SECONDSINQTR\", hue=\"ISCLOSE_MARGIN\", palette=custom_palette, common_norm=False)\n",
    "plt.title(\"Timing of Fouls: Close vs Non-Close Games in the Second Quarter\")\n",
    "plt.xlabel(\"Seconds Elapsed in Quarter\")\n",
    "plt.ylabel(\"Density\")\n",
    "sns.despine()\n",
    "plt.show()"
   ]
  },
  {
   "cell_type": "code",
   "execution_count": null,
   "id": "9bf63745",
   "metadata": {},
   "outputs": [],
   "source": [
    "s24_25[\"ISCLOSE_MARGIN\"] = s24_25[\"ABSMARGIN\"].apply(lambda x: \"Close\" if x <= 5 else \"Non-Close\")  # creates a boolean column that checks whether the score margin is close or not\n",
    "s24_25[\"ISCLOSE_MARGIN\"].value_counts(normalize=True)  # percentage of fouls that occurred in close vs non-close moments\n",
    "\n",
    "custom_palette = {\"Close\": \"#60992d\", \"Non-Close\": \"#d991ba\"}\n",
    "plt.figure(figsize=(10, 6))\n",
    "sns.kdeplot(data=s24_25[s24_25[\"PERIOD\"]==3], x=\"SECONDSINQTR\", hue=\"ISCLOSE_MARGIN\", palette=custom_palette, common_norm=False)\n",
    "plt.title(\"Timing of Fouls: Close vs Non-Close Games in the Third Quarter\")\n",
    "plt.xlabel(\"Seconds Elapsed in Quarter\")\n",
    "plt.ylabel(\"Density\")\n",
    "sns.despine()\n",
    "plt.show()"
   ]
  },
  {
   "cell_type": "code",
   "execution_count": null,
   "id": "4ad9f1fd",
   "metadata": {},
   "outputs": [],
   "source": [
    "s24_25[\"ISCLOSE_MARGIN\"] = s24_25[\"ABSMARGIN\"].apply(lambda x: \"Close\" if x <= 5 else \"Non-Close\")  # creates a boolean column that checks whether the score margin is close or not\n",
    "s24_25[\"ISCLOSE_MARGIN\"].value_counts(normalize=True)  # percentage of fouls that occurred in close vs non-close moments\n",
    "\n",
    "custom_palette = {\"Close\": \"#60992d\", \"Non-Close\": \"#d991ba\"}\n",
    "plt.figure(figsize=(10, 6))\n",
    "sns.kdeplot(data=s24_25[s24_25[\"PERIOD\"]==4], x=\"SECONDSINQTR\", hue=\"ISCLOSE_MARGIN\", palette=custom_palette, common_norm=False)\n",
    "plt.title(\"Timing of Fouls: Close vs Non-Close Games in the Fourth Quarter\")\n",
    "plt.xlabel(\"Seconds Elapsed in Quarter\")\n",
    "plt.ylabel(\"Density\")\n",
    "sns.despine()\n",
    "plt.show()\n"
   ]
  },
  {
   "cell_type": "code",
   "execution_count": null,
   "id": "11c16568",
   "metadata": {},
   "outputs": [],
   "source": [
    "# i want to plot timing of fouls across the entire game\n"
   ]
  }
 ],
 "metadata": {
  "kernelspec": {
   "display_name": "base",
   "language": "python",
   "name": "python3"
  },
  "language_info": {
   "codemirror_mode": {
    "name": "ipython",
    "version": 3
   },
   "file_extension": ".py",
   "mimetype": "text/x-python",
   "name": "python",
   "nbconvert_exporter": "python",
   "pygments_lexer": "ipython3",
   "version": "3.12.7"
  }
 },
 "nbformat": 4,
 "nbformat_minor": 5
}
